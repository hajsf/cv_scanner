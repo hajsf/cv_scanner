{
 "cells": [
  {
   "cell_type": "markdown",
   "metadata": {},
   "source": [
    "# CV Quick Screening wth 35 lines of code\n",
    "**[Hasan Yousef](mailto:hasan.ajsf@gmail.com), Sept 08, 2019**\n",
    "\n",
    "CV fast screening based on selected key words that required to be in the CV"
   ]
  },
  {
   "cell_type": "code",
   "execution_count": 18,
   "metadata": {},
   "outputs": [
    {
     "data": {
      "text/plain": [
       "9-element Array{String,1}:\n",
       " \"import\"                 \n",
       " \"shipping documents\"     \n",
       " \"ERP\"                    \n",
       " \"supply chain\"           \n",
       " \"(b/l|(bill of loading))\"\n",
       " \"chemical (permit)\"      \n",
       " \"permit\"                 \n",
       " \"HS (code)\"              \n",
       " \"Police (permit)\"        "
      ]
     },
     "execution_count": 18,
     "metadata": {},
     "output_type": "execute_result"
    }
   ],
   "source": [
    "required_skills = [\n",
    "    \"import\", \"shipping documents\", \n",
    "     \"ERP\", \"supply chain\", \"(b/l|(bill of loading))\", \"chemical (permit)\", \"permit\", \"HS (code)\", \"Police (permit)\" \n",
    "] #  to be scanned in the given CV"
   ]
  },
  {
   "cell_type": "code",
   "execution_count": 2,
   "metadata": {},
   "outputs": [],
   "source": [
    "using PDFIO\n",
    "using StatsBase"
   ]
  },
  {
   "cell_type": "code",
   "execution_count": 3,
   "metadata": {},
   "outputs": [
    {
     "data": {
      "text/plain": [
       "\"C:\\\\Users\\\\hasan.DESKTOP-HU2FQ29\\\\downloads\\\\aujan\""
      ]
     },
     "execution_count": 3,
     "metadata": {},
     "output_type": "execute_result"
    }
   ],
   "source": [
    "pwd() # Confirm wrking directory"
   ]
  },
  {
   "cell_type": "code",
   "execution_count": 4,
   "metadata": {},
   "outputs": [
    {
     "data": {
      "text/plain": [
       "getPDFText (generic function with 1 method)"
      ]
     },
     "execution_count": 4,
     "metadata": {},
     "output_type": "execute_result"
    }
   ],
   "source": [
    "function getPDFText(src, out)\n",
    "    doc = pdDocOpen(src)\n",
    "    docinfo = pdDocGetInfo(doc)\n",
    "    open(out, \"w\") do io\n",
    "\t\tnpage = pdDocGetPageCount(doc)\n",
    "            for i=1:npage\n",
    "                page = pdDocGetPage(doc, i)\n",
    "                pdPageExtractText(io, page)\n",
    "            end\n",
    "    end\n",
    "    pdDocClose(doc)\n",
    "    return docinfo\n",
    "end"
   ]
  },
  {
   "cell_type": "code",
   "execution_count": 14,
   "metadata": {},
   "outputs": [
    {
     "name": "stdout",
     "output_type": "stream",
     "text": [
      "Amal Al-Wabel.pdf\n",
      "Hussain Makki_CV.pdf\n",
      "Majed Al Zahrani - General Secondary.pdf\n",
      "Nawaf Al Yousef.pdf\n",
      "Noufal Al Zaher.pdf\n",
      "Ziyad Al Essa.pdf\n",
      "إبراهيم وليد أحمد العريفج - Mechanical engineering.pdf\n",
      "عصام محمد فايز الشهري - Mechanical engineering.pdf\n",
      "محمد علي محمد المحمد علي - Mechanical engineering.pdf\n",
      "محمد ناصر حسني الحارثي - Mechanical engineering.pdf\n",
      "مهدي عبدالله مهدي آل شهاب - Mechanical engineering.pdf\n",
      "يوسف إبراهيم محمد ال قريشه - Supply chain management.pdf\n"
     ]
    }
   ],
   "source": [
    "read_files = cd(readdir, pwd())\n",
    "for rf in read_files\n",
    "    if occursin(r\".*\\.pdf\\z\", rf) == true\n",
    "        println(rf)\n",
    "    end\n",
    "end"
   ]
  },
  {
   "cell_type": "code",
   "execution_count": 19,
   "metadata": {},
   "outputs": [
    {
     "name": "stdout",
     "output_type": "stream",
     "text": [
      "Skills found: at Amal Al-Wabel.pdf (cv) are 0 / 9 \n",
      "\n",
      "Skills found: at Hussain Makki_CV.pdf (cv) are 0 / 9 \n",
      "\n",
      "Skills found: at Majed Al Zahrani - General Secondary.pdf (cv) are 0 / 9 \n",
      "\n",
      "Skills found: at Nawaf Al Yousef.pdf (cv) are 0 / 9 \n",
      "\n",
      "Skills found: at Noufal Al Zaher.pdf (cv) are 0 / 9 \n",
      "\n",
      "Skills found: at Ziyad Al Essa.pdf (cv) are 3 / 9 \n",
      "Erp, Shipping Documents, Supply Chain, \n",
      "Skills found: at إبراهيم وليد أحمد العريفج - Mechanical engineering.pdf (cv) are 1 / 9 \n",
      "Erp, \n",
      "Skills found: at عصام محمد فايز الشهري - Mechanical engineering.pdf (cv) are 0 / 9 \n",
      "\n",
      "Skills found: at محمد علي محمد المحمد علي - Mechanical engineering.pdf (cv) are 0 / 9 \n",
      "\n",
      "Skills found: at محمد ناصر حسني الحارثي - Mechanical engineering.pdf (cv) are 0 / 9 \n",
      "\n",
      "Skills found: at مهدي عبدالله مهدي آل شهاب - Mechanical engineering.pdf (cv) are 0 / 9 \n",
      "\n",
      "Skills found: at يوسف إبراهيم محمد ال قريشه - Supply chain management.pdf (cv) are 2 / 9 \n",
      "Erp, Supply Chain, \n"
     ]
    }
   ],
   "source": [
    "cv_files = cd(readdir, pwd())\n",
    "for f in cv_files\n",
    "    if occursin(r\".*\\.pdf\\z\", f) == true\n",
    "        getPDFText(f, \"$f.txt\")\n",
    "        rx = \"rx_oryx\"\n",
    "        for skill in required_skills\n",
    "            rx = \"$rx|$skill\"\n",
    "        end\n",
    "        rx = Regex(string(\"(?i)($rx)s?(?-i)\")) # (?i) case insensetive (?-i)\n",
    "        cv_text = read(\"$f.txt\", String)\n",
    "        found = collect(eachmatch(rx, cv_text, overlap = true))\n",
    "        found_skills = []\n",
    "        for (i, entry) in enumerate(found)\n",
    "            push!(found_skills, entry.match)\n",
    "        end\n",
    "        candidate_skills = unique(titlecase.(found_skills))  \n",
    "        println(\"Skills found: at $f (cv) are $(length(candidate_skills)) / $(length(required_skills)) \") \n",
    "        for s in sort!(candidate_skills) print(\"$s, \") end\n",
    "        println(\"\")\n",
    "    end\n",
    "end"
   ]
  }
 ],
 "metadata": {
  "kernelspec": {
   "display_name": "Julia 1.2.0",
   "language": "julia",
   "name": "julia-1.2"
  },
  "language_info": {
   "file_extension": ".jl",
   "mimetype": "application/julia",
   "name": "julia",
   "version": "1.2.0"
  }
 },
 "nbformat": 4,
 "nbformat_minor": 4
}
